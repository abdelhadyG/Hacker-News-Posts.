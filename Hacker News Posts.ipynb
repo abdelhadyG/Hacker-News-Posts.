{
 "cells": [
  {
   "cell_type": "markdown",
   "metadata": {},
   "source": [
    "# Hacker News Posts\n",
    "**Hacker News** is a site started by the startup incubator [Y Combinator](https://www.ycombinator.com/), where user-submitted stories (known as \"posts\") are voted and commented upon, similar to **reddit**. Hacker News is extremely popular in **technology and startup circles**, and posts that make it to the top of Hacker News' listings can get hundreds of thousands of visitors as a result.\n",
    "Iam specifically interested in posts whose titles begin with either **Ask HN** or **Show HN**. Users submit **Ask HN** posts to ask the Hacker News community a specific question, users submit **Show HN** posts to show the Hacker News community a project, product, or just generally something interesting.\n",
    "\n",
    "**I'll compare these two types of posts to determine the following:**\n",
    "1. Do Ask HN or Show HN receive more comments on average?\n",
    "2. Do posts created at a certain time receive more comments on average?"
   ]
  },
  {
   "cell_type": "markdown",
   "metadata": {},
   "source": [
    "### Lets start.."
   ]
  },
  {
   "cell_type": "code",
   "execution_count": 14,
   "metadata": {},
   "outputs": [
    {
     "name": "stdout",
     "output_type": "stream",
     "text": [
      "[['id', 'title', 'url', 'num_points', 'num_comments', 'author', 'created_at']]\n",
      "\n",
      "\n",
      "[['12579008', 'You have two days to comment if you want stem cells to be classified as your own', 'http://www.regulations.gov/document?D=FDA-2015-D-3719-0018', '1', '0', 'altstar', '9/26/2016 3:26'], ['12579005', 'SQLAR  the SQLite Archiver', 'https://www.sqlite.org/sqlar/doc/trunk/README.md', '1', '0', 'blacksqr', '9/26/2016 3:24'], ['12578997', 'What if we just printed a flatscreen television on the side of our boxes?', 'https://medium.com/vanmoof/our-secrets-out-f21c1f03fdc8#.ietxmez43', '1', '0', 'pavel_lishin', '9/26/2016 3:19'], ['12578989', 'algorithmic music', 'http://cacm.acm.org/magazines/2011/7/109891-algorithmic-composition/fulltext', '1', '0', 'poindontcare', '9/26/2016 3:16'], ['12578979', 'How the Data Vault Enables the Next-Gen Data Warehouse and Data Lake', 'https://www.talend.com/blog/2016/05/12/talend-and-أ‚آ“the-data-vaultأ‚آ”', '1', '0', 'markgainor1', '9/26/2016 3:14'], ['12578975', 'Saving the Hassle of Shopping', 'https://blog.menswr.com/2016/09/07/whats-new-with-your-style-feed/', '1', '1', 'bdoux', '9/26/2016 3:13'], ['12578954', \"Macalifa  A new open-source music app for UWP that won't suck\", 'http://forums.windowscentral.com/windows-phone-apps/440523-macalifa-new-open-source-music-app-uwp-wont-suck.html', '1', '0', 'thecodrr', '9/26/2016 3:06'], ['12578942', 'GitHub  theweavrs/Macalifa: A music player written for UWP', 'https://github.com/theweavrs/Macalifa', '1', '0', 'thecodrr', '9/26/2016 3:04'], ['12578919', 'Google Allo  first Impression', 'http://prodissues.com/2016/09/google-allo-first-impression.html', '3', '0', 'jandll', '9/26/2016 2:57'], ['12578918', 'Advanced Multimedia on the Linux Command Line', 'https://avi.alkalay.net/2016/09/multimedia-linux-cli.html', '1', '0', 'mynameislegion', '9/26/2016 2:56']]\n"
     ]
    }
   ],
   "source": [
    "from csv import reader\n",
    "opened_file = open('HN_posts.csv')\n",
    "read_file = reader(opened_file)\n",
    "hn = list(read_file)\n",
    "header = hn[:1]\n",
    "hn = hn[1:]\n",
    "\n",
    "print(header)\n",
    "print('\\n')\n",
    "print(hn[:10])"
   ]
  },
  {
   "cell_type": "markdown",
   "metadata": {},
   "source": [
    "##### As I said Iam only concerned with post titles beginning with Ask HN or Show HN."
   ]
  },
  {
   "cell_type": "code",
   "execution_count": 27,
   "metadata": {},
   "outputs": [
    {
     "name": "stdout",
     "output_type": "stream",
     "text": [
      "The number of ASK-posts is:  9139\n",
      "[['12578908', 'Ask HN: What TLD do you use for local development?', '', '4', '7', 'Sevrene', '9/26/2016 2:53'], ['12578522', 'Ask HN: How do you pass on your work when you die?', '', '6', '3', 'PascLeRasc', '9/26/2016 1:17'], ['12577908', 'Ask HN: How a DNS problem can be limited to a geographic region?', '', '1', '0', 'kuon', '9/25/2016 22:57']]\n",
      "\n",
      "\n",
      "The number of SHOW-posts is:  10146\n",
      "[['12578335', 'Show HN: Finding puns computationally', 'http://puns.samueltaylor.org/', '2', '0', 'saamm', '9/26/2016 0:36'], ['12578182', 'Show HN: A simple library for complicated animations', 'https://christinecha.github.io/choreographer-js/', '1', '0', 'christinecha', '9/26/2016 0:01'], ['12578098', 'Show HN: WebGL visualization of DNA sequences', 'http://grondilu.github.io/dna.html', '1', '0', 'grondilu', '9/25/2016 23:44']]\n",
      "\n",
      "\n",
      "The number of OTHER posts is:  273834\n",
      "[['12579008', 'You have two days to comment if you want stem cells to be classified as your own', 'http://www.regulations.gov/document?D=FDA-2015-D-3719-0018', '1', '0', 'altstar', '9/26/2016 3:26'], ['12579005', 'SQLAR  the SQLite Archiver', 'https://www.sqlite.org/sqlar/doc/trunk/README.md', '1', '0', 'blacksqr', '9/26/2016 3:24'], ['12578997', 'What if we just printed a flatscreen television on the side of our boxes?', 'https://medium.com/vanmoof/our-secrets-out-f21c1f03fdc8#.ietxmez43', '1', '0', 'pavel_lishin', '9/26/2016 3:19']]\n"
     ]
    }
   ],
   "source": [
    "ask_posts = []\n",
    "show_posts = []\n",
    "other_posts = []\n",
    "\n",
    "for row in hn:\n",
    "    title = row[1]\n",
    "    if (title.lower()).startswith('ask hn'):\n",
    "        ask_posts.append(row)\n",
    "    elif (title.lower()).startswith('show hn:'):\n",
    "        show_posts.append(row)\n",
    "    else:\n",
    "        other_posts.append(row)\n",
    "        \n",
    "print('The number of ASK-posts is: ', len(ask_posts))\n",
    "print(ask_posts[:3])\n",
    "print('\\n')\n",
    "print('The number of SHOW-posts is: ', len(show_posts))\n",
    "print(show_posts[:3])\n",
    "print('\\n')\n",
    "print('The number of OTHER posts is: ', len(other_posts))\n",
    "print(other_posts[:3])"
   ]
  },
  {
   "cell_type": "markdown",
   "metadata": {},
   "source": [
    "So we have **9139** ASK-posts, **10146** SHOW-posts and **273834** OTHER posts."
   ]
  },
  {
   "cell_type": "markdown",
   "metadata": {},
   "source": [
    "#### Calculating the average number of comments.."
   ]
  },
  {
   "cell_type": "code",
   "execution_count": 36,
   "metadata": {},
   "outputs": [
    {
     "name": "stdout",
     "output_type": "stream",
     "text": [
      "The total number of ask-posts comments is:  94986 comments\n",
      "The total number of show-posts comments is:  49627 comments\n",
      "The average number of comments in ask-posts is:  10 comments\n",
      "The average number of comments in show-posts is:  5 comments\n"
     ]
    }
   ],
   "source": [
    "total_ask_comments = 0\n",
    "for row in ask_posts:\n",
    "    ask_comments_num = int(row[4])\n",
    "    total_ask_comments += ask_comments_num\n",
    "    \n",
    "total_show_comments = 0\n",
    "for row in show_posts:\n",
    "    show_comments_num = int(row[4])\n",
    "    total_show_comments += show_comments_num\n",
    "    \n",
    "avg_ask_comments = round(total_ask_comments / len(ask_posts))\n",
    "avg_show_comments = round(total_show_comments / len(show_posts))\n",
    "    \n",
    "print('The total number of ask-posts comments is: ', total_ask_comments, 'comments')\n",
    "print('The total number of show-posts comments is: ', total_show_comments, 'comments')\n",
    "print('The average number of comments in ask-posts is: ', avg_ask_comments, 'comments')\n",
    "print('The average number of comments in show-posts is: ', avg_show_comments, 'comments')    "
   ]
  },
  {
   "cell_type": "markdown",
   "metadata": {},
   "source": [
    "We can note that the average number of comments on ask-posts is **nearly the double** of its in show-posts."
   ]
  },
  {
   "cell_type": "markdown",
   "metadata": {},
   "source": [
    "#### Next, I'll determine if ask posts created at a certain time are more likely to attract comments."
   ]
  },
  {
   "cell_type": "code",
   "execution_count": 52,
   "metadata": {},
   "outputs": [
    {
     "name": "stdout",
     "output_type": "stream",
     "text": [
      "{'02': 269, '01': 282, '22': 383, '21': 518, '19': 552, '17': 587, '15': 646, '14': 513, '13': 444, '11': 312, '10': 282, '09': 222, '07': 226, '03': 271, '23': 343, '20': 510, '16': 579, '08': 257, '00': 301, '18': 614, '12': 342, '04': 243, '06': 234, '05': 209}\n",
      "\n",
      "\n",
      "{'02': 2996, '01': 2089, '22': 3372, '21': 4500, '19': 3954, '17': 5547, '15': 18525, '14': 4972, '13': 7245, '11': 2797, '10': 3013, '09': 1477, '07': 1585, '03': 2154, '23': 2297, '20': 4462, '16': 4466, '08': 2362, '00': 2277, '18': 4877, '12': 4234, '04': 2360, '06': 1587, '05': 1838}\n"
     ]
    }
   ],
   "source": [
    "import datetime as dt\n",
    "result_list = []\n",
    "\n",
    "for row in ask_posts:\n",
    "    created_at = row[-1]\n",
    "    num_comments = int(row[-3])\n",
    "    result_list.append([created_at, num_comments])\n",
    "    \n",
    "counts_per_hour = {}\n",
    "comments_per_hour = {}\n",
    "\n",
    "for result in result_list:\n",
    "    created_at_result = result[0]\n",
    "    comments_result = result[1]\n",
    "    created_at_result = dt.datetime.strptime(created_at_result, \"%m/%d/%Y %H:%M\")\n",
    "    creation_hour = created_at_result.strftime('%H')\n",
    "    if creation_hour not in counts_per_hour:\n",
    "        counts_per_hour[creation_hour] = 1\n",
    "        comments_per_hour[creation_hour] = comments_result\n",
    "    else:\n",
    "        counts_per_hour[creation_hour] += 1\n",
    "        comments_per_hour[creation_hour] += comments_result\n",
    "    \n",
    "print(counts_per_hour)\n",
    "print('\\n')\n",
    "print(comments_per_hour)"
   ]
  },
  {
   "cell_type": "code",
   "execution_count": 57,
   "metadata": {},
   "outputs": [
    {
     "name": "stdout",
     "output_type": "stream",
     "text": [
      "[['02', 11], ['01', 7], ['22', 9], ['21', 9], ['19', 7], ['17', 9], ['15', 29], ['14', 10], ['13', 16], ['11', 9], ['10', 11], ['09', 7], ['07', 7], ['03', 8], ['23', 7], ['20', 9], ['16', 8], ['08', 9], ['00', 8], ['18', 8], ['12', 12], ['04', 10], ['06', 7], ['05', 9]]\n"
     ]
    }
   ],
   "source": [
    "avg_per_hour = []\n",
    "\n",
    "for hour in comments_per_hour:\n",
    "    average = round(comments_per_hour[hour] / counts_per_hour[hour])\n",
    "    avg_per_hour.append([hour, average])\n",
    "    \n",
    "print(avg_per_hour)"
   ]
  },
  {
   "cell_type": "code",
   "execution_count": 64,
   "metadata": {},
   "outputs": [
    {
     "name": "stdout",
     "output_type": "stream",
     "text": [
      "The Top Five Hours for Ask Posts Comments:\n",
      "    15:00 EST or 22:00 WAT:    29.0 average comments per post\n",
      "    13:00 EST or 20:00 WAT:    16.0 average comments per post\n",
      "    12:00 EST or 19:00 WAT:    12.0 average comments per post\n",
      "    10:00 EST or 17:00 WAT:    11.0 average comments per post\n",
      "    02:00 EST or 09:00 WAT:    11.0 average comments per post\n"
     ]
    }
   ],
   "source": [
    "swap_avg_per_hour = []\n",
    "\n",
    "for row in avg_per_hour:\n",
    "    swap_avg_per_hour.append([row[1], row[0]])\n",
    "    \n",
    "sorted_swap = sorted(swap_avg_per_hour, reverse=True)\n",
    "\n",
    "print(\"The Top Five Hours for Ask Posts Comments:\")\n",
    "for row in sorted_swap[:5]:\n",
    "    # US/Eastern timezone (EST) - UTC-06\n",
    "    est_hour_dt = dt.datetime.strptime(row[1], '%H')\n",
    "    est_hour_str = est_hour_dt.strftime('%H:%M')\n",
    "    \n",
    "    # Our timezone (WAT) - UTC+01: 7 hours ahead of EST\n",
    "    # Converting the `Hour` from EST to WAT\n",
    "    our_hour_dt = dt.datetime.strptime(row[1], '%H') + dt.timedelta(hours=7)\n",
    "    our_hour_str = our_hour_dt.strftime('%H:%M')\n",
    "    \n",
    "    print('   ', '{est_time} EST or {our_time} WAT:    {avg:.1f} average comments per post'.format(est_time=est_hour_str, our_time=our_hour_str, avg=row[0]))"
   ]
  },
  {
   "cell_type": "markdown",
   "metadata": {},
   "source": [
    "## Conclusion:\n",
    "Our results show that creating a post at 15:00 - 16:00 EST has the highest chance of receiving comments. One of the possible explanations is that 15:00 EST is a time when users in both North America and Europe are active. This is based on our assumption that most of the Hacker News users are from these two continents. For this reason, the best time for us (IN EGYPT) to submit a post at our time zone is 22:00, and it is followed by 09:00 and 03:00 WAT."
   ]
  }
 ],
 "metadata": {
  "kernelspec": {
   "display_name": "Python 3",
   "language": "python",
   "name": "python3"
  },
  "language_info": {
   "codemirror_mode": {
    "name": "ipython",
    "version": 3
   },
   "file_extension": ".py",
   "mimetype": "text/x-python",
   "name": "python",
   "nbconvert_exporter": "python",
   "pygments_lexer": "ipython3",
   "version": "3.8.5"
  }
 },
 "nbformat": 4,
 "nbformat_minor": 4
}
